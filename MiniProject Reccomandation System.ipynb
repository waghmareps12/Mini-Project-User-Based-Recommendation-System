{
 "metadata": {
  "language_info": {
   "codemirror_mode": {
    "name": "ipython",
    "version": 3
   },
   "file_extension": ".py",
   "mimetype": "text/x-python",
   "name": "python",
   "nbconvert_exporter": "python",
   "pygments_lexer": "ipython3",
   "version": "3.9.2"
  },
  "orig_nbformat": 4,
  "kernelspec": {
   "name": "python3",
   "display_name": "Python 3.9.2 64-bit"
  },
  "interpreter": {
   "hash": "253610b32deff12f9676f9738d80e16f11ea3c9fcc2838dd2a726bea48617a42"
  }
 },
 "nbformat": 4,
 "nbformat_minor": 2,
 "cells": [
  {
   "cell_type": "code",
   "execution_count": 1,
   "metadata": {},
   "outputs": [],
   "source": [
    "def minkowksiD(ratings1, ratings2, r):\n",
    "    # calcualte minkowski distance\n",
    "    distance = 0       \n",
    "    for item in ratings1.keys():\n",
    "        # consider item rating only if \n",
    "        # both users have rated item\n",
    "        if item in ratings2.keys():\n",
    "            x = ratings1[item]\n",
    "            y = ratings2[item]\n",
    "            distance += pow(abs(x - y), r)\n",
    "    # return value of minkowski distance\n",
    "    return pow(distance,1/r)"
   ]
  },
  {
   "cell_type": "code",
   "execution_count": 2,
   "metadata": {},
   "outputs": [],
   "source": [
    "from operator import itemgetter"
   ]
  },
  {
   "cell_type": "code",
   "execution_count": 3,
   "metadata": {},
   "outputs": [],
   "source": [
    "#user ratings\n",
    "UserMovieRatings = {\n",
    "    'Amy': {'Family Plot':10, 'Rebecca':5, 'Spellbound':9, 'Star Trek':6}, \n",
    "    'Bill': {'Apocalypto':8, 'Braveheart':3, 'Rebecca':10, 'Spellbound':5, 'Star Trek':7}, \n",
    "    'Cathy': {'Spaceballs':7, 'The Ice Storm':4, 'Family Plot':5, 'Rebecca':9, 'Spellbound':1}, \n",
    "    'Dave': {'Braveheart':5, 'Rebecca':7, 'Spellbound':4}, \n",
    "    'Ernie': {'Apocalypto':3, 'Braveheart':8, 'Rebecca':1, 'Star Trek':7}, \n",
    "    'Fiona': {'The Ice Storm':3, 'Family Plot':10, 'Rebecca':6, 'Spellbound':10}}\n"
   ]
  },
  {
   "cell_type": "code",
   "execution_count": 4,
   "metadata": {},
   "outputs": [
    {
     "output_type": "execute_result",
     "data": {
      "text/plain": [
       "{'Family Plot': 10, 'Rebecca': 5, 'Spellbound': 9, 'Star Trek': 6}"
      ]
     },
     "metadata": {},
     "execution_count": 4
    }
   ],
   "source": [
    "# for whom are we making recommendations?\n",
    "userX = \"Amy\"\n",
    "userXRatings = UserMovieRatings[userX]\n",
    "userXRatings"
   ]
  },
  {
   "cell_type": "code",
   "execution_count": 5,
   "metadata": {},
   "outputs": [
    {
     "output_type": "execute_result",
     "data": {
      "text/plain": [
       "[('Bill', 10.0),\n",
       " ('Cathy', 17.0),\n",
       " ('Dave', 7.0),\n",
       " ('Ernie', 5.0),\n",
       " ('Fiona', 2.0)]"
      ]
     },
     "metadata": {},
     "execution_count": 5
    }
   ],
   "source": [
    "# find the manhattan distance between userX's ratings, and each of the other user's ratings.\n",
    "# use a for loop to get at the other users and their ratings - DO NOT hard code.\n",
    "# use the manhattan function to caclulate the manhattan distance between user ratings.\n",
    "# assign list of (user, distance) tuples to variable userDistances.\n",
    "# Example: [('Bill', 4.39), ('Cathy', 3.16), ('Dave', 1.41), ('Ernie', 3.64)]\n",
    "userDistances = []\n",
    "for UserY, userYRatings in UserMovieRatings.items():\n",
    "    if userX!=UserY:\n",
    "        ManhattenXY = minkowksiD(userXRatings, userYRatings, 1)  \n",
    "        userDistances.append(tuple((UserY, ManhattenXY)))\n",
    "        # print(UserX, UserY, ManhattenXY)\n",
    "userDistances"
   ]
  },
  {
   "cell_type": "code",
   "execution_count": 6,
   "metadata": {},
   "outputs": [
    {
     "output_type": "execute_result",
     "data": {
      "text/plain": [
       "[('Fiona', 2.0),\n",
       " ('Ernie', 5.0),\n",
       " ('Dave', 7.0),\n",
       " ('Bill', 10.0),\n",
       " ('Cathy', 17.0)]"
      ]
     },
     "metadata": {},
     "execution_count": 6
    }
   ],
   "source": [
    "# sort list of tuples by lowest distance to highest distance.\n",
    "# assign sorted list to variable userSortedDistances.\n",
    "# Example: [('Dave', 1.41), ('Cathy', 3.16), ('Ernie', 3.64), ('Bill', 4.39)]\n",
    "userSortedDistances =  sorted(userDistances, key = itemgetter(1)) \n",
    "userSortedDistances"
   ]
  },
  {
   "cell_type": "code",
   "execution_count": 7,
   "metadata": {},
   "outputs": [
    {
     "output_type": "execute_result",
     "data": {
      "text/plain": [
       "'Fiona'"
      ]
     },
     "metadata": {},
     "execution_count": 7
    }
   ],
   "source": [
    "# userX's NN is the user at the 0th position of the sorted list.\n",
    "# assign NN to userXNN.\n",
    "# Example: 'Dave'\n",
    "userXNN = userSortedDistances[0][0]\n",
    "userXNN"
   ]
  },
  {
   "cell_type": "code",
   "execution_count": 8,
   "metadata": {},
   "outputs": [
    {
     "output_type": "execute_result",
     "data": {
      "text/plain": [
       "[('The Ice Storm', 3)]"
      ]
     },
     "metadata": {},
     "execution_count": 8
    }
   ],
   "source": [
    "# recos for userX will include movies rated by userXNN, not already rated by userX.\n",
    "# assign list of (movie, rating) tuples to variable userXRecos.\n",
    "# Example: [('Family Plot',10), ('The Ice Storm',3), ('Rebecca',6)]\n",
    "userXRecos = []\n",
    "for movie, rating in UserMovieRatings[userXNN].items():\n",
    "    if movie not in UserMovieRatings[userX].keys():\n",
    "        tup = (movie, rating)\n",
    "        userXRecos.append(tup)\n",
    "\n",
    "userXRecos"
   ]
  },
  {
   "cell_type": "code",
   "execution_count": 9,
   "metadata": {},
   "outputs": [],
   "source": [
    "# sort list of tuples by highest rating to lowest rating.\n",
    "# assign sorted list to varaible userXSortedRecos.\n",
    "# Example: [('Family Plot',10), ('Rebecca',6), ('The Ice Storm',3)]\n",
    "userXSortedRecos = sorted(userXRecos, key=itemgetter(1), reverse=True)"
   ]
  },
  {
   "cell_type": "code",
   "execution_count": 10,
   "metadata": {},
   "outputs": [
    {
     "output_type": "stream",
     "name": "stdout",
     "text": [
      "Recommendations for: Amy\nBased on closest user: Fiona\n[('The Ice Storm', 3)]\n"
     ]
    }
   ],
   "source": [
    "print (\"Recommendations for:\", userX)\n",
    "print (\"Based on closest user:\", userXNN)\n",
    "print (userXSortedRecos)"
   ]
  },
  {
   "source": [
    "### FUNCTION TO GET A MOVIE RECOMMENDATION FOR EACH USER :\n"
   ],
   "cell_type": "markdown",
   "metadata": {}
  },
  {
   "cell_type": "code",
   "execution_count": 80,
   "metadata": {},
   "outputs": [],
   "source": [
    "\n",
    "def GetReccomendation(userX):\n",
    "    userXRatings = UserMovieRatings[userX]\n",
    "    userDistances = []\n",
    "    for UserY, userYRatings in UserMovieRatings.items():\n",
    "        if userX!=UserY:\n",
    "            ManhattenXY = minkowksiD(userXRatings, userYRatings, 1)  \n",
    "            userDistances.append(tuple((UserY, ManhattenXY)))\n",
    "    userSortedDistances =  sorted(userDistances, key = itemgetter(1))\n",
    "    userXNN = userSortedDistances[0][0] \n",
    "    userXRecos = []\n",
    "    for movie, rating in UserMovieRatings[userXNN].items():\n",
    "        if movie not in UserMovieRatings[userX].keys():\n",
    "            tup = (movie, rating)\n",
    "            userXRecos.append(tup)\n",
    "    userXSortedRecos = sorted(userXRecos, key=itemgetter(1), reverse=True)\n",
    "    print (\"Recommendations for:\", userX)\n",
    "    print (\"Based on closest user:\", userXNN)\n",
    "    print (userXSortedRecos)\n"
   ]
  },
  {
   "cell_type": "code",
   "execution_count": 81,
   "metadata": {},
   "outputs": [
    {
     "output_type": "stream",
     "name": "stdout",
     "text": [
      "Recommendations for: Bill\nBased on closest user: Cathy\n[('Spaceballs', 7), ('Family Plot', 5), ('The Ice Storm', 4)]\n"
     ]
    }
   ],
   "source": [
    "GetReccomendation('Bill')"
   ]
  },
  {
   "cell_type": "code",
   "execution_count": 82,
   "metadata": {},
   "outputs": [
    {
     "output_type": "stream",
     "name": "stdout",
     "text": [
      "Recommendations for: Amy\nBased on closest user: Fiona\n[('The Ice Storm', 3)]\nRecommendations for: Bill\nBased on closest user: Cathy\n[('Spaceballs', 7), ('Family Plot', 5), ('The Ice Storm', 4)]\nRecommendations for: Cathy\nBased on closest user: Bill\n[('Apocalypto', 8), ('Star Trek', 7), ('Braveheart', 3)]\nRecommendations for: Dave\nBased on closest user: Cathy\n[('Spaceballs', 7), ('Family Plot', 5), ('The Ice Storm', 4)]\nRecommendations for: Ernie\nBased on closest user: Amy\n[('Family Plot', 10), ('Spellbound', 9)]\nRecommendations for: Fiona\nBased on closest user: Amy\n[('Star Trek', 6)]\n"
     ]
    }
   ],
   "source": [
    "for user in UserMovieRatings.keys():\n",
    "    GetReccomendation(user)"
   ]
  },
  {
   "cell_type": "code",
   "execution_count": null,
   "metadata": {},
   "outputs": [],
   "source": []
  }
 ]
}